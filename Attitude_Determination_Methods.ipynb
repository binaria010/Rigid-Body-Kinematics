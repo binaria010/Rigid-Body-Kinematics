{
 "cells": [
  {
   "cell_type": "markdown",
   "metadata": {},
   "source": [
    "# Methods for Attitude Determination:"
   ]
  },
  {
   "cell_type": "code",
   "execution_count": 1,
   "metadata": {},
   "outputs": [],
   "source": [
    "import numpy as np\n",
    "import math\n",
    "from DCMmatrix import *\n",
    "from Euler_Integrator import *\n",
    "from scipy.linalg import *\n",
    "from scipy import optimize"
   ]
  },
  {
   "cell_type": "markdown",
   "metadata": {},
   "source": [
    "## Concept Check 2 - TRIAD Method:\n",
    "\n",
    "1. A spacecraft has two attitude sensors, sensing two unit vectors (directions), $\\hat{\\bf v}_i$ with $i=1,2$. We know the first sensor ($i=1$) is more accurate than the second sensor. At an instant in time, the two vectors measured by the sensors have the body frame components: \n",
    "$$\n",
    "\\hat{\\bf v}_1^B =\\begin{pmatrix} 0.8273\\\\ 0.5541\\\\ -0.0920\\end{pmatrix} \\ \\ \\hat{\\bf v}_2^B\\begin{pmatrix} -0.8285\\\\ 0.5522\\\\ -0.0955\\end{pmatrix} \\ \\ \n",
    "$$\n",
    "At the sma time, the four vectors are determined to have inertial frame components:\n",
    "$$\n",
    "\\hat{\\bf v}_1^N =\\begin{pmatrix} -0.1517\\\\ -0.9669\\\\ 0.2050\\end{pmatrix} \\ \\ \\hat{\\bf v}_2^N\\begin{pmatrix} -0.8393\\\\ 0.4494\\\\ -0.3044\\end{pmatrix} \\ \\ \n",
    "$$\n",
    "Use the triad method to determine the estimated attitud $[\\bar BN]$.\n",
    "\n",
    "The $T$ frame (Triad) is defined as follows:\n",
    "$$\n",
    "\\begin{aligned}\n",
    "t_1^B = \\hat{\\bf v}_1^B & \\ \\ \\ t_1^N = \\hat{\\bf v}_1^N  \\\\\n",
    "t_2^B = \\frac{t_1^B\\times\\hat{\\bf v}_2^B}{|t_1^B\\times\\hat{\\bf v}_2^B|} & \\ \\ \\ t_1^N = \\frac{t_1^N\\times\\hat{\\bf v}_2^N}{|t_1^N\\times\\hat{\\bf v}_2^N|}  \\\\\n",
    "t_3^B = t_1^B\\times t_2^B & \\ \\ \\ t_3^N = t_1^N\\times t_2^N \n",
    "\\end{aligned}\n",
    "$$\n",
    "where $\\hat{\\bf v}_i^B, \\hat{\\bf v}_i^N$ are first normalized.\n"
   ]
  },
  {
   "cell_type": "code",
   "execution_count": 2,
   "metadata": {},
   "outputs": [
    {
     "name": "stdout",
     "output_type": "stream",
     "text": [
      "The estimated attitude [BN] is : \n",
      " [[ 0.41555875 -0.85509088  0.31004921]\n",
      " [-0.83393237 -0.49427603 -0.24545471]\n",
      " [ 0.36313597 -0.15655922 -0.91848869]]\n"
     ]
    }
   ],
   "source": [
    "v_B1 = np.array([0.8273, 0.5541, -0.0920])\n",
    "v_B1 = v_B1/(norm(v_B1,2))\n",
    "v_B2 = np.array([-0.8285, 0.5522, -0.0955])\n",
    "v_B2 = v_B2/(norm(v_B2,2))\n",
    "v_N1 = np.array([-0.1517, -0.9669, 0.2050])\n",
    "v_N1 = v_N1/(norm(v_N1,2))\n",
    "v_N2 = np.array([-0.8393, 0.4494, -0.3044])\n",
    "v_N2 = v_N2/(norm(v_N2,2))\n",
    "\n",
    "## T frame in both references\n",
    "t_B1 = v_B1\n",
    "t_B2 = np.cross(t_B1, v_B2)\n",
    "t_B2 = t_B2/norm(t_B2)\n",
    "t_B3 = np.cross(t_B1, t_B2)\n",
    "t_B3 = t_B3/norm(t_B3)\n",
    "\n",
    "BT = np.hstack((t_B1.reshape(-1,1), t_B2.reshape(-1,1), t_B3.reshape(-1,1)))\n",
    "\n",
    "t_N1 = v_N1\n",
    "t_N2 = np.cross(t_N1, v_N2)\n",
    "t_N2 = t_N2/norm(t_N2)\n",
    "t_N3 = np.cross(t_N1, t_N2)\n",
    "t_N3 = t_N3/norm(t_N3)\n",
    "\n",
    "NT = np.hstack((t_N1.reshape(-1,1), t_N2.reshape(-1,1), t_N3.reshape(-1,1)))\n",
    "\n",
    "BN = BT @ (NT.T)\n",
    "\n",
    "print('The estimated attitude [BN] is : \\n', BN)\n"
   ]
  },
  {
   "cell_type": "markdown",
   "metadata": {},
   "source": [
    "BN can also be computed by mean of the following expression: \n",
    "$BN = t_{N1} t_{B1}^T + (t_{N1} \\times t_{N2})(t_B1\\times t_{B2})^T + t_{N2} t_{B2}^T$ \n",
    "\n",
    "Extracted from the the book: 'Fundamentals of Spacecraft Attitude Determination and Control' by Landis and Crassidis"
   ]
  },
  {
   "cell_type": "code",
   "execution_count": 3,
   "metadata": {},
   "outputs": [
    {
     "name": "stdout",
     "output_type": "stream",
     "text": [
      "[[ 0.41555875 -0.85509088  0.31004921]\n",
      " [-0.83393237 -0.49427603 -0.24545471]\n",
      " [ 0.36313597 -0.15655922 -0.91848869]]\n"
     ]
    }
   ],
   "source": [
    "A_triad = np.outer(t_B1, t_N1) + np.outer(t_B3, t_N3) + np.outer(t_B2, t_N2)\n",
    "print(A_triad)"
   ]
  },
  {
   "cell_type": "markdown",
   "metadata": {},
   "source": [
    "2. Assume the estimated attitude is given by \n",
    "$$\n",
    "\\bar{B}N = \\begin{bmatrix} 0.969846 & 0.17101 & 0.173648\\\\ \n",
    "-0.200706 & 0.96461 & 0.17101\\\\\n",
    "-0.138258 & -0.200706 & 0.969846 \n",
    "\\end{bmatrix}\n",
    "$$\n",
    "and the true attitude is given by \n",
    "$$\n",
    "BN = \\begin{bmatrix} 0.963592 & 0.187303 & 0.190809\\\\ \n",
    "-0.223042 & 0.956645 & 0.187303\\\\\n",
    "-0.147454 & -0.223042 & 0.963592 \n",
    "\\end{bmatrix}\n",
    "$$\n",
    "Express the estimation error in terms of a principal rotation angle in units of degrees.\n"
   ]
  },
  {
   "cell_type": "code",
   "execution_count": 4,
   "metadata": {},
   "outputs": [
    {
     "name": "stdout",
     "output_type": "stream",
     "text": [
      "The estimation error in terms of a principal rotation angle is :\n",
      " 1.8284522666836587  degrees\n"
     ]
    }
   ],
   "source": [
    "BT_est = np.array([[0.969846, 0.17101, 0.173648],[-0.200706, 0.96461, 0.17101],[-0.138258, -0.200706, 0.969846 \n",
    "]])\n",
    "\n",
    "BT_true = np.array([[0.963592, 0.187303, 0.190809],[-0.223042, 0.956645, 0.187303],[-0.147454, -0.223042, 0.963592]])\n",
    "\n",
    "Phi_est, _  = DCM_to_PR(BT_est)\n",
    "Phi_true, _ = DCM_to_PR(BT_true)\n",
    "error = abs(Phi_est - Phi_true) \n",
    "\n",
    "\n",
    "print('The estimation error in terms of a principal rotation angle is :\\n', error, ' degrees')"
   ]
  },
  {
   "cell_type": "markdown",
   "metadata": {},
   "source": [
    "# Wahba's Problem.\n",
    "We can improve on the TRIAD method in two ways: by allowing arbitrary weighting of the measurements and by allowing the use of more than two measurements. The latter is especially important for use with star trackers that can track many stars simultaneously. Wahba’s problem is to find the orthogonal matrix $A$ with determinant $+1$ that minimizes the loss function\n",
    "$$\n",
    "L(A) = \\frac{1}{2}\\sum_{i=1}^N w_i||{\\bf b}_i - A{\\bf r}_i||^2\n",
    "$$\n",
    "where $\\{{\\bf b}_i, \\ \\ i=1,...,N\\}$ is a set of $N$ unit vectors measured in a spacecraft’s body frame, $\\{{\\bf r}_i\\ \\ i=1,...,N\\}$ are the corresponding unit vectors in a reference frame, and $\\{w_i\\}$ are the corresponding non negative weights which for now we will set equal to $1$.\n",
    "Since \n",
    "$$\n",
    "||{\\bf b}_i - A{\\bf r}_i||^2= ||{\\bf b}_i||^2 + 2||A{\\bf r}_i||^2 -2\\langle {\\bf b}_i, A{\\bf r}_i\\rangle = 2 - 2tr(A{\\bf r}_i {\\bf b}_i^T)\n",
    "$$\n",
    "then the loss function can be written in a very convenient form:\n",
    "$$\n",
    "L(A) = \\lambda_0 - tr(AB^T)\n",
    "$$\n",
    "where $\\lambda_0 = \\sum_{i=1}^Nw_i$ and the \"attitude profile matrix\" $B$ is defined by the following sum of rank 1 matrices:\n",
    "$$\n",
    "B = \\sum_{i=1}^N w_i{\\bf b}_i{\\bf r}_i^T\n",
    "$$\n",
    "Now it is clear the loss function is minimized when $tr(AB^T)$ is maximized.\n",
    "\n",
    "Algorithms for solving Wahba’s problem fall into two classes. The first solves for the attitude matrix directly, and the second solves for the quaternion representation of the attitude matrix. With error-free mathematics, all algorithms should lead to the same attitude, and testing shows this to be the case. Quaternion solutions have proven to be much more useful in practice, so we will consider them first.\n",
    "\n",
    "## Quaternion Solutions of Wahba’s Problem\n",
    "### Davenport's $q$ Method:\n",
    "First we write the loss function in terms of the quaternions (Euler parameters) ${\\bf q} = (\\beta_0,\\beta_1,\\beta_2,\\beta3)$: (See Section 5.3 o the book)\n",
    "$$\n",
    "L(A({\\bf q})= \\lambda_0 - {\\bf q}^TK(B){\\bf q}\n",
    "$$\n",
    "with \n",
    "$$\n",
    "K(B) = \\begin{bmatrix}\n",
    "tr(B) & Z^T \\\\\n",
    "Z  & B +B^T -tr(B)I_{3\\times 3}\n",
    "\\end{bmatrix} \\ \\ \\ \\  Z = \\sum_{i=1}^n w_i({\\bf b}_i\\times{\\bf r}_i)= \\begin{bmatrix} B_{23} -B_{32} \\\\ B_{31}-B_{13}\\\\ B_{12}-B_{21}\\end{bmatrix}\n",
    "$$\n",
    "Note that the expression for the matrix $K(B)$ is different to the one from the book, this is because for us the first component f the quaternion is the scalar par $\\beta_0$ as opossed to the last coordinate in the book.\n",
    "\n",
    "Since we look for the matrix $\\tilde{\\bf q} = \\min_{{\\bf q}}L(A({\\bf q})) = \\max_{{\\bf q}}{\\bf q}^TK(B){\\bf q}$ subject to ${\\bf q}^T{\\bf q} =1$, by the Lagrange multipliers method, we optimize the function:\n",
    "$$\n",
    "J({\\bf q}) = {\\bf q}^TK(B){\\bf q} -\\lambda{\\bf q}^T{\\bf q} \n",
    "$$\n",
    "with $\\lambda$ the multiplier. The solution of this optimization problem is, by taking derivatives with respect to ${\\bf q}$, are the quaternions ${\\bf q}$ such that:\n",
    "$$\n",
    "K(B){\\bf q} = \\lambda{\\bf q}\n",
    "$$\n",
    "i.e , the eigenvector of $K(B)$, with eigenvalue $\\lambda$. But, which eigenvector? Since we want to maximize ${\\bf q}^TK(B){\\bf q} = {\\bf q}^T\\lambda {\\bf q}= \\lambda$, then que wished quaternion must be the one corresponding to the maximum eigenvalue, if a short rotation quaternion is needed, its first coordinate must be possitive and also it has to be of lenght 1.\n",
    "\n",
    "Davenport’s algorithm does not have a unique solution if the two largest eigenvalues of $K(B)$ are equal. This is not a failure of the q method; it means that the data are not sufficient to determine the attitude uniquely. Very robust algorithms exist to solve the symmetric eigenvalue problem, and Davenport’s method remains the best method for solving Wahba’s problem if one has access to one of these eigenvalue decomposition algorithms.\n",
    "\n",
    "#### Example:\n"
   ]
  },
  {
   "cell_type": "code",
   "execution_count": 5,
   "metadata": {},
   "outputs": [],
   "source": [
    "theta_true = (30., 20., -10.) #in degrees\n",
    "euler = (3,2,1)\n",
    "BN_true = DCMatrix(theta_true, euler)"
   ]
  },
  {
   "cell_type": "code",
   "execution_count": 6,
   "metadata": {},
   "outputs": [
    {
     "data": {
      "text/plain": [
       "array([[ 0.81379768,  0.46984631, -0.34202014],\n",
       "       [-0.54383814,  0.82317294, -0.16317591],\n",
       "       [ 0.20487413,  0.31879578,  0.92541658]])"
      ]
     },
     "execution_count": 6,
     "metadata": {},
     "output_type": "execute_result"
    }
   ],
   "source": [
    "BN_true"
   ]
  },
  {
   "cell_type": "code",
   "execution_count": 7,
   "metadata": {},
   "outputs": [],
   "source": [
    "r1 = np.array([1,0,0])\n",
    "r2 = np.array([0,0,1]) # measurements in the reference frame coordinates\n",
    "b1 = BN_true @r1\n",
    "b2 = BN_true@r2"
   ]
  },
  {
   "cell_type": "code",
   "execution_count": 8,
   "metadata": {},
   "outputs": [
    {
     "name": "stdout",
     "output_type": "stream",
     "text": [
      "[ 0.81379768 -0.54383814  0.20487413] [-0.34202014 -0.16317591  0.92541658]\n"
     ]
    }
   ],
   "source": [
    "print(b1,b2)"
   ]
  },
  {
   "cell_type": "code",
   "execution_count": 9,
   "metadata": {},
   "outputs": [],
   "source": [
    "np.random.seed(0)\n",
    "b1_noise = np.array([0.8190, -0.52820, 0.22420])\n",
    "b2_noise = np.array([-0.31380,-0.15840, 0.93620])\n",
    "#b1_noise = b1 + 0.01*np.random.rand(3)\n",
    "#b2_noise = b2 + 0.01*np.random.rand(3)"
   ]
  },
  {
   "cell_type": "code",
   "execution_count": 10,
   "metadata": {},
   "outputs": [
    {
     "name": "stdout",
     "output_type": "stream",
     "text": [
      "[ 0.819  -0.5282  0.2242] [-0.3138 -0.1584  0.9362]\n"
     ]
    }
   ],
   "source": [
    "print(b1_noise, b2_noise)"
   ]
  },
  {
   "cell_type": "code",
   "execution_count": 11,
   "metadata": {},
   "outputs": [],
   "source": [
    "## The weights:\n",
    "w1, w2 = 1,1\n"
   ]
  },
  {
   "cell_type": "code",
   "execution_count": 12,
   "metadata": {},
   "outputs": [],
   "source": [
    "# The matrix K(B):\n",
    "\n",
    "def KB(B, Z) :\n",
    "    KB =  np.vstack((np.hstack((np.trace(B), Z)), np.hstack((Z.reshape(-1,1), B + B.T - np.trace(B)*np.eye(3)))))\n",
    "    return KB"
   ]
  },
  {
   "cell_type": "code",
   "execution_count": 13,
   "metadata": {},
   "outputs": [],
   "source": [
    "B = w1*np.outer(b1_noise,r1) + w2*np.outer(b2_noise, r2)\n",
    "Z = w1*np.cross(b1_noise, r1) + w2*np.cross(b2_noise, r2)\n",
    "K = KB(B,Z)\n"
   ]
  },
  {
   "cell_type": "code",
   "execution_count": 14,
   "metadata": {},
   "outputs": [
    {
     "name": "stdout",
     "output_type": "stream",
     "text": [
      "[[ 1.7552 -0.1584  0.538   0.5282]\n",
      " [-0.1584 -0.1172 -0.5282 -0.0896]\n",
      " [ 0.538  -0.5282 -1.7552 -0.1584]\n",
      " [ 0.5282 -0.0896 -0.1584  0.1172]]\n"
     ]
    }
   ],
   "source": [
    "print(K)"
   ]
  },
  {
   "cell_type": "code",
   "execution_count": 15,
   "metadata": {},
   "outputs": [],
   "source": [
    "lamb, v = eig(K)"
   ]
  },
  {
   "cell_type": "code",
   "execution_count": 16,
   "metadata": {},
   "outputs": [
    {
     "name": "stdout",
     "output_type": "stream",
     "text": [
      "[ 1.99969236+0.j -1.99969236+0.j -0.03656634+0.j  0.03656634+0.j] [[ 0.94806851 -0.14137121  0.26650527 -0.10077314]\n",
      " [-0.11720729  0.25969739  0.7703875   0.57037077]\n",
      " [ 0.14137121  0.94806851 -0.10077314 -0.26650527]\n",
      " [ 0.25969739  0.11720729 -0.57037077  0.7703875 ]]\n"
     ]
    }
   ],
   "source": [
    "print(lamb, v)"
   ]
  },
  {
   "cell_type": "markdown",
   "metadata": {},
   "source": [
    "Since the first eigenvalue is the biggest then we set the quaternion set to be the first vector in v the matrix of the eigenvectors of KB"
   ]
  },
  {
   "cell_type": "code",
   "execution_count": 17,
   "metadata": {},
   "outputs": [],
   "source": [
    "q = v[:,0]"
   ]
  },
  {
   "cell_type": "code",
   "execution_count": 18,
   "metadata": {},
   "outputs": [
    {
     "name": "stdout",
     "output_type": "stream",
     "text": [
      "The short rotation quaternion of theses measurements is q = \n",
      " [ 0.94806851 -0.11720729  0.14137121  0.25969739]\n"
     ]
    }
   ],
   "source": [
    "print('The short rotation quaternion of theses measurements is q = \\n', q)"
   ]
  },
  {
   "cell_type": "markdown",
   "metadata": {},
   "source": [
    "Now the corresponding DCM matrix A is:"
   ]
  },
  {
   "cell_type": "code",
   "execution_count": 19,
   "metadata": {},
   "outputs": [
    {
     "name": "stdout",
     "output_type": "stream",
     "text": [
      "The estimated BN is A =  [[ 0.82514289  0.45928237 -0.32893604]\n",
      " [-0.52556131  0.83763943 -0.14881361]\n",
      " [ 0.20718233  0.29566855  0.93255327]]\n",
      "\n",
      " the real DCM is \n",
      " BN_true =  [[ 0.81379768  0.46984631 -0.34202014]\n",
      " [-0.54383814  0.82317294 -0.16317591]\n",
      " [ 0.20487413  0.31879578  0.92541658]]\n"
     ]
    }
   ],
   "source": [
    "A = EP_to_DCM(q)\n",
    "print('The estimated BN is A = ', A)\n",
    "print('\\n the real DCM is \\n BN_true = ', BN_true)"
   ]
  },
  {
   "cell_type": "code",
   "execution_count": 20,
   "metadata": {},
   "outputs": [
    {
     "name": "stdout",
     "output_type": "stream",
     "text": [
      "because of the noise in the measurements the matrix A.T@BN_true is not exactly the identity but close. It is : \n",
      " [[ 0.99976596  0.02111134 -0.00472658]\n",
      " [-0.02120251  0.99957213 -0.02014982]\n",
      " [ 0.00429917  0.02024532  0.9997858 ]]\n"
     ]
    }
   ],
   "source": [
    "print('because of the noise in the measurements the matrix A.T@BN_true is not exactly the identity but close. It is : \\n', A.T@BN_true   )"
   ]
  },
  {
   "cell_type": "code",
   "execution_count": 21,
   "metadata": {},
   "outputs": [
    {
     "name": "stdout",
     "output_type": "stream",
     "text": [
      "So the error in the estimation in terms of the PR angel is Phi =  1.695973840742523 degrees\n"
     ]
    }
   ],
   "source": [
    "q_est = DCM_to_PR(A.T@BN_true)\n",
    "print('So the error in the estimation in terms of the PR angel is Phi = ', q_est[0], 'degrees')"
   ]
  },
  {
   "cell_type": "markdown",
   "metadata": {},
   "source": [
    "If we us the TRIAD method instead, we obtain: "
   ]
  },
  {
   "cell_type": "code",
   "execution_count": 22,
   "metadata": {},
   "outputs": [
    {
     "name": "stdout",
     "output_type": "stream",
     "text": [
      "The matrix BbarB, i.e the DCM B relative to its estimated bar B is also almost the identity because of noisy measurements : \n",
      " [[ 0.99967745  0.02147796  0.01355327]\n",
      " [-0.02120251  0.99957213 -0.02014982]\n",
      " [-0.01398025  0.01985596  0.9997051 ]]\n",
      "The error in heestimation in terms of the PR angle is Phi_triad =  1.8525322520674505\n"
     ]
    }
   ],
   "source": [
    "A_triad = TRIAD(b1_noise, b2_noise, r1, r2)\n",
    "q_triad =  DCM_to_PR(A_triad.T @ BN_true)\n",
    "print('The matrix BbarB, i.e the DCM B relative to its estimated bar B is also almost the identity because of noisy measurements : \\n',  A_triad.T @ BN_true)\n",
    "print('The error in heestimation in terms of the PR angle is Phi_triad = ', q_triad[0])"
   ]
  },
  {
   "cell_type": "markdown",
   "metadata": {},
   "source": [
    "### Concept Check 3, 4 - Devenport's q-Method\n",
    "6. A spacecraft has two attitude sensors, sensing two unit vectors $\\hat v_i, \\ \\ i=1,2$. We know the first sensor is more accurate than the second sensor. At an instant in time, the two vectors measured by the sensors have the body frame components\n",
    "$$\n",
    "\\hat v_1^B = \\begin{pmatrix} 0.8273\\\\ 0.5541\\\\ -0.0920\\end{pmatrix} \\ \\ \\ \\hat v_2^B = \\begin{pmatrix} -0.8285\\\\ 0.5522\\\\ -0.0955\\end{pmatrix}\n",
    "$$\n",
    "At the same time, the two vectors are determined to have inertial frame components:\n",
    "$$\n",
    "\\hat v_1^N = \\begin{pmatrix} -0.1517\\\\ -0.9669\\\\ 0.2050\\end{pmatrix} \\ \\ \\ \\hat v_2^N = \\begin{pmatrix} -0.8393\\\\ 0.4494\\\\ -0.3044\\end{pmatrix}\n",
    "$$\n",
    "\n",
    "Use Davenport's q-Method to determine the estimated attitude $\\bar BN$"
   ]
  },
  {
   "cell_type": "code",
   "execution_count": 23,
   "metadata": {},
   "outputs": [
    {
     "name": "stdout",
     "output_type": "stream",
     "text": [
      "[ 0.02640807 -0.84098146  0.50200028 -0.20012127]\n",
      "The davenport function prints the quaternion!\n"
     ]
    }
   ],
   "source": [
    "b1 = np.array([0.8273, 0.5541, -0.0920])\n",
    "b2 = np.array([-0.8285, 0.5522, -0.0955])\n",
    "r1 = np.array([-0.1517, -0.9669, 0.2050])\n",
    "r2 = np.array([-0.8393, 0.4494, -0.3044])\n",
    "b = (b1, b2)\n",
    "r = (r1, r2)\n",
    "w = (1,0.8)\n",
    "barBN = davenport(b, r, w)  \n",
    "print('The davenport function prints the quaternion!')"
   ]
  },
  {
   "cell_type": "code",
   "execution_count": 24,
   "metadata": {},
   "outputs": [
    {
     "name": "stdout",
     "output_type": "stream",
     "text": [
      "[[ 0.41589439 -0.85491549  0.31008284]\n",
      " [-0.83377622 -0.49459666 -0.24533927]\n",
      " [ 0.36311028 -0.15650447 -0.91850818]]\n"
     ]
    }
   ],
   "source": [
    "print(barBN)"
   ]
  },
  {
   "cell_type": "markdown",
   "metadata": {},
   "source": [
    "#### Using QUEST method we get the same result but in a more efficient way!"
   ]
  },
  {
   "cell_type": "code",
   "execution_count": 25,
   "metadata": {},
   "outputs": [],
   "source": [
    "q_quest, BarBN_quest = QUEST(b, r, w)\n"
   ]
  },
  {
   "cell_type": "code",
   "execution_count": 26,
   "metadata": {},
   "outputs": [
    {
     "name": "stdout",
     "output_type": "stream",
     "text": [
      "The BarBN matrix using the QUEST method is: \n",
      " [[ 0.41589439 -0.85491549  0.31008284]\n",
      " [-0.83377622 -0.49459666 -0.24533927]\n",
      " [ 0.36311028 -0.15650447 -0.91850818]]\n"
     ]
    }
   ],
   "source": [
    "print('The BarBN matrix using the QUEST method is: \\n', BarBN_quest)"
   ]
  },
  {
   "cell_type": "code",
   "execution_count": 27,
   "metadata": {},
   "outputs": [
    {
     "name": "stdout",
     "output_type": "stream",
     "text": [
      "[ 0.02640807 -0.84098146  0.50200028 -0.20012127]\n"
     ]
    }
   ],
   "source": [
    "print(q_quest)"
   ]
  },
  {
   "cell_type": "code",
   "execution_count": null,
   "metadata": {},
   "outputs": [],
   "source": []
  }
 ],
 "metadata": {
  "kernelspec": {
   "display_name": "Python 3",
   "language": "python",
   "name": "python3"
  },
  "language_info": {
   "codemirror_mode": {
    "name": "ipython",
    "version": 3
   },
   "file_extension": ".py",
   "mimetype": "text/x-python",
   "name": "python",
   "nbconvert_exporter": "python",
   "pygments_lexer": "ipython3",
   "version": "3.8.2"
  }
 },
 "nbformat": 4,
 "nbformat_minor": 4
}
