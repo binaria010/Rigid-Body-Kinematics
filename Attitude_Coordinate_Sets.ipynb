{
 "cells": [
  {
   "cell_type": "markdown",
   "metadata": {},
   "source": [
    "# Rigid Body Kinematics: Examples and Excercises from \"Anaylitical Mechanics of Space Systems\" by H. Shaub, J. Junkins\n",
    "\n",
    "# Euler angles and Principal Rotation (PR) Parameters"
   ]
  },
  {
   "cell_type": "code",
   "execution_count": 1,
   "metadata": {},
   "outputs": [],
   "source": [
    "import numpy as np\n",
    "import math\n",
    "from DCMmatrix import *\n",
    "from Euler_Integrator import *\n",
    "from scipy.linalg import *"
   ]
  },
  {
   "cell_type": "markdown",
   "metadata": {},
   "source": [
    "### Example 3.3:\n",
    "Let the $B$ frame attitude relative to the $\\mathcal N$ frame be given by the $(3-2-1)$ Euler angles $(10, 25,-􏱘15)$ degs. Find the corresponding principal rotation axis and angles."
   ]
  },
  {
   "cell_type": "code",
   "execution_count": 2,
   "metadata": {},
   "outputs": [],
   "source": [
    "Theta= (10, 25,-15)\n",
    "euler = (3,2,1)\n",
    "BN = DCMatrix(Theta, euler)"
   ]
  },
  {
   "cell_type": "code",
   "execution_count": 3,
   "metadata": {},
   "outputs": [
    {
     "name": "stdout",
     "output_type": "stream",
     "text": [
      "[[ 0.89253894  0.1573787  -0.42261826]\n",
      " [-0.27545116  0.93225732 -0.23456972]\n",
      " [ 0.35707269  0.3257733   0.8754261 ]]\n"
     ]
    }
   ],
   "source": [
    "print(BN)"
   ]
  },
  {
   "cell_type": "code",
   "execution_count": 4,
   "metadata": {},
   "outputs": [
    {
     "name": "stdout",
     "output_type": "stream",
     "text": [
      "Rotation in degrees =  31.77623650635435 Rotation vector =  [-0.53203527  0.74030206  0.4109639 ]\n"
     ]
    }
   ],
   "source": [
    "Phi, e = DCM_to_PR(BN)\n",
    "print('Rotation in degrees = ', Phi, 'Rotation vector = ', e)"
   ]
  },
  {
   "cell_type": "code",
   "execution_count": 5,
   "metadata": {},
   "outputs": [
    {
     "name": "stdout",
     "output_type": "stream",
     "text": [
      "The second principal rotation angle is Phi' = 360 - Phi =  328.22376349364566\n",
      "Both pairs (e, Phi), (e, Phi') descibes the identical attitude given by the Euler set (3-2-1)\n"
     ]
    }
   ],
   "source": [
    "print('The second principal rotation angle is Phi\\' = 360 - Phi = ', 360 - Phi)\n",
    "print('Both pairs (e, Phi), (e, Phi\\') descibes the identical attitude given by the Euler set (3-2-1)')"
   ]
  },
  {
   "cell_type": "markdown",
   "metadata": {},
   "source": [
    "## Quiz 2: Concept Check 2 - Principal Rotation Parameter, relation to DCM\n",
    "Q6 Given the DCM \n",
    "$$\n",
    "BN = \\begin{pmatrix}\n",
    "0.925417 & 0.33684 & 0.173648 \\\\ \n",
    "0.0296956 &  - 0.521281 & 0.852869 \\\\\n",
    "0.377786 &  - 0.784102 & - 0.492404\\\\\n",
    "\\end{pmatrix}\n",
    "$$\n",
    "what is the equivalent rotation parameter set $(e,\\Phi)$"
   ]
  },
  {
   "cell_type": "code",
   "execution_count": 6,
   "metadata": {},
   "outputs": [
    {
     "name": "stdout",
     "output_type": "stream",
     "text": [
      "122.96550407043027 [0.97555081 0.12165579 0.18304232]\n"
     ]
    }
   ],
   "source": [
    "BN = np.array([[0.925417, 0.33684, 0.173648],[0.0296956, -0.521281, 0.852869 ],[0.377786, -0.784102, -0.492404]])\n",
    "Phi, e = DCM_to_PR(BN)\n",
    "print(Phi, e)"
   ]
  },
  {
   "cell_type": "markdown",
   "metadata": {},
   "source": [
    "## Quiz 3: principal rotation addition:\n",
    "\n",
    "2. Given the $(3-2-1)$ Euler angles $(20,-10, 120)$ degrees, what is the equivalent principal rotational parameters?"
   ]
  },
  {
   "cell_type": "code",
   "execution_count": 7,
   "metadata": {},
   "outputs": [],
   "source": [
    "Phi, e = DCM_to_PR(DCMatrix((20,-10, 120), (3,2,1)))"
   ]
  },
  {
   "cell_type": "code",
   "execution_count": 8,
   "metadata": {},
   "outputs": [
    {
     "name": "stdout",
     "output_type": "stream",
     "text": [
      "2.1461528375981986 [0.97555054 0.12165573 0.18303284]\n"
     ]
    }
   ],
   "source": [
    "print(Phi*np.pi/180, e)"
   ]
  },
  {
   "cell_type": "markdown",
   "metadata": {},
   "source": [
    "3. Two orientations are related through $[FB] = [BN] = \\begin{bmatrix} 1 & 0 & 0\\\\ 0 & 0& 1\\\\ 0 & -1 & 0\\end{bmatrix}$. Sum these orientations to find $[FN]$ and express the answer using principal rotation parameters.\n",
    "\n",
    "Note: the sum of orientations corresponds to the product of the DCM matrices (this is because sum in the Lie Algebra corresponds to product in the group, sort to speak!)"
   ]
  },
  {
   "cell_type": "code",
   "execution_count": 9,
   "metadata": {},
   "outputs": [],
   "source": [
    "FB = np.array([[1,0,0],[0,0,1],[0,-1,0]])\n",
    "BN = FB\n",
    "FN = FB @ BN"
   ]
  },
  {
   "cell_type": "code",
   "execution_count": 10,
   "metadata": {},
   "outputs": [
    {
     "name": "stdout",
     "output_type": "stream",
     "text": [
      "FN  matrix is = \n",
      " [[ 1  0  0]\n",
      " [ 0 -1  0]\n",
      " [ 0  0 -1]] \n",
      " It represents a 180 degrees around the axis e =(1,0,0)\n"
     ]
    }
   ],
   "source": [
    "print('FN  matrix is = '+ '\\n', FN, '\\n It represents a 180 degrees around the axis e =(1,0,0)')"
   ]
  },
  {
   "cell_type": "code",
   "execution_count": 11,
   "metadata": {},
   "outputs": [
    {
     "name": "stdout",
     "output_type": "stream",
     "text": [
      "90.0 90.0 179.99999999999997 [1. 0. 0.]\n"
     ]
    }
   ],
   "source": [
    "Phi1, e1= DCM_to_PR(BN)\n",
    "Phi2, e2 = DCM_to_PR(FB)\n",
    "Phi_12, e_12 = Add_PR(Phi1, e1, Phi2, e2)\n",
    "print(Phi1,Phi2, Phi_12, e_12)\n"
   ]
  },
  {
   "cell_type": "markdown",
   "metadata": {},
   "source": [
    "print('Computing the rotation parameters directly from the product matrix FN conduces to errors because Phi = 180 \\\n",
    "is a singularity')\n",
    "Phi, e = DCM_to_PR(FN)\n",
    "print('The rotation parameters (Phi, e) are  :', Phi, e )"
   ]
  },
  {
   "cell_type": "markdown",
   "metadata": {},
   "source": [
    "# Euler Parameters:\n",
    "Another popular set of attitude coordinates are the four Euler parameters (quaternions). They provide a redundant, nonsingular attitude description and are well suited to describe arbitrary, large rotations. The Euler parameter vector b is defined in terms of the principal rotation elements as:\n",
    "$$\n",
    "\\begin{align}\n",
    "\\beta_0 &= \\cos(\\Phi/2)\\\\\n",
    "\\beta_1 &= e_1\\sin(\\Phi/2)\\\\\n",
    "\\beta_2 &= e_2\\sin(\\Phi/2)\\\\\n",
    "\\beta_3 &= e_3\\sin(\\Phi/2)\n",
    "\\end{align}\n",
    "$$\n",
    "It is evident since $e_1^2 +e_2^2 + e_3^2 =1$ that the $\\beta_i$ satisfy the holonomic constraint\n",
    "$$\n",
    "\\beta_0^2 + \\beta_1^2 +\\beta_2^2 + \\beta_3^2 =1\n",
    "$$\n",
    "\n",
    "Note that this constraint geometrically describes a four-dimensional unit sphere. Any rotation described through the Euler parameters has a trajectory on the surface of this constraint sphere. Given a certain attitude, there are actu- ally two sets of Euler parameters that will describe the same orientation. This is due to the non-uniqueness of the principal rotation elements themselves. Switching between the sets $(\\Phi, \\hat e)$ and $(-\\Phi, -\\hat e)$ will yield the same Euler parameter vector ${\\bf \\beta}$. However, if the second principal rotation angle $\\Phi'$ is used, another Euler parameter vector ${\\bf \\beta'}$ is found. One can show that\n",
    "$$\n",
    "\\beta_0' = \\cos(\\Phi'/2) = \\cos(\\phi/2-\\pi) = -\\cos(\\Phi/2) = -\\beta_0\n",
    "$$\n",
    "$$\n",
    "\\beta_i' = e_i\\sin(\\Phi'/2) = e_i\\sin(\\phi/2-\\pi) = -e_i\\sin(\\Phi/2) = -\\beta_i\n",
    "$$\n",
    "therefore the vector ${\\bf\\beta'}=-{\\bf\\beta}$ describes the same orientation as ${\\bf\\beta}$.\n",
    "Because any point on the unit constraint sphere surface represents a specific orientation, the anti-pole to that point represents the exact same orientation. The difference between the two attitude descriptions is that one specifies the orientation through the shortest single axis rotation, the other through the longest.\n",
    "\n",
    "The cosine direction matrix written in terms ofthe Euler parameters is:\n",
    "\n",
    "$$\n",
    "C = \\begin{bmatrix}\n",
    "\\beta_0^2 + \\beta_1^2 -\\beta_2^2 - \\beta_3^2 & 2(\\beta_1\\beta_2 +\\beta_0\\beta_3) & 2(\\beta_1\\beta_3 -\\beta_0\\beta_2) \\\\\n",
    "2(\\beta_1\\beta_2 -\\beta_0\\beta_3) & \\beta_0^2 - \\beta_1^2 +\\beta_2^2 - \\beta_3^2 & 2(\\beta_2\\beta_3 -\\beta_0\\beta_1)\\\\\n",
    "2(\\beta_1\\beta_3 +\\beta_0\\beta_2) & 2(\\beta_2\\beta_3 -\\beta_0\\beta_1) & \\beta_0^2 - \\beta_1^2 -\\beta_2^2 +\\beta_3^2\n",
    "\\end{bmatrix}\n",
    "$$\n",
    "\n",
    "From the DCM matrix one can compute the Euler Parameters using Sheppard method:\n",
    "\n",
    "$$\n",
    "\\begin{align}\n",
    "\\beta_0^2 &= \\frac{1}{4}(1+\\text{trace}(C))\\\\\n",
    "\\beta_1^2 &= \\frac{1}{4}(1+2C[0,0] -\\text{trace}(C))\\\\\n",
    "\\beta_2^2 &= \\frac{1}{4}(1+2C[1,1] -\\text{trace}(C))\\\\\n",
    "\\beta_3^2 &= \\frac{1}{4}(1+2C[2,2] -\\text{trace}(C))\n",
    "\\end{align}\n",
    "$$\n",
    "ThenSheppard takes the square root of thelargest $\\beta_i$ found in eqs above where the sign of $\\beta_i$ is arbitrarily chosen to be positive. The other $\\beta_j$ are found by dividing the appropriate three of the following six in the following eqs by the chosen largest $\\beta_i$ coordinate:\n",
    "\n",
    "$$\n",
    "\\begin{align}\n",
    "\\beta_0\\beta_1 &= (C[1,2]-C[2,1])/4\\\\\n",
    "\\beta_0\\beta_2 &= (C[2,0]-C[0,2])/4\\\\\n",
    "\\beta_0\\beta_3 &= (C[0,1]-C[1,0])/4\\\\\n",
    "\\beta_2\\beta_3 &= (C[1,2]+C[2,1])/4\\\\\n",
    "\\beta_3\\beta_1 &= (C[2,0]+C[0,3])/4\\\\\n",
    "\\beta_1\\beta_2 &= (C[0,1]+C[1,0])/4\\\\\n",
    "\\end{align}\n",
    "$$\n",
    "To find the alternate set of Euler parameter, the sign of the chosen $\\beta_i$ would simply be set negative.\n",
    "\n",
    "\n",
    "## Example 3.6 from Shaub-Junkins book:\n",
    "Let's use the Sheppard's method to find the Euler parameters of the direction cosine matrix C given by:\n"
   ]
  },
  {
   "cell_type": "code",
   "execution_count": 12,
   "metadata": {},
   "outputs": [],
   "source": [
    "C = np.array([[0.892539, 0.157379, -0.422618],[-0.275451, 0.932257, -0.234570],[0.357073, 0.325773, 0.875426]])"
   ]
  },
  {
   "cell_type": "code",
   "execution_count": 13,
   "metadata": {},
   "outputs": [
    {
     "name": "stdout",
     "output_type": "stream",
     "text": [
      "[[ 0.892539  0.157379 -0.422618]\n",
      " [-0.275451  0.932257 -0.23457 ]\n",
      " [ 0.357073  0.325773  0.875426]]\n"
     ]
    }
   ],
   "source": [
    "print(C)"
   ]
  },
  {
   "cell_type": "code",
   "execution_count": 14,
   "metadata": {},
   "outputs": [],
   "source": [
    "beta = DCM_to_EP(C)"
   ]
  },
  {
   "cell_type": "code",
   "execution_count": 15,
   "metadata": {},
   "outputs": [
    {
     "name": "stdout",
     "output_type": "stream",
     "text": [
      "[ 0.96179806 -0.14564986  0.20266494  0.11250543]\n"
     ]
    }
   ],
   "source": [
    "print(beta)"
   ]
  },
  {
   "cell_type": "markdown",
   "metadata": {},
   "source": [
    "## Addition and subtraction of Euler Parameters:\n",
    "A very important composite rotation property of the Euler parameters is the manner in which they allow two sequential rotations to be combined into one overall composite rotation. Let the Euler parameter vector $\\beta'$ describe the first, $\\beta''$ the second, and $\\beta$ the composite rotation. In terms of the matrices:\n",
    "$$\n",
    "FN(\\beta) = FB(\\beta'') BN(\\beta')\n",
    "$$\n",
    "using the expression for the above matrices one finds that\n",
    "$$\n",
    "\\begin{pmatrix} \\beta_0 \\\\ \\beta_1 \\\\ \\beta_2 \\\\ \\beta_3 \\end{pmatrix}= \n",
    "\\begin{bmatrix}\n",
    "\\beta_0'' & -\\beta''_1 & - \\beta''_2 & - \\beta''_3\\\\\n",
    "\\beta_1'' & \\beta''_0 & \\beta''_3 & \\beta''_2\\\\\n",
    "\\beta_2'' & -\\beta''_3 & \\beta''_0 &  \\beta''_1\\\\\n",
    "\\beta_3'' & \\beta''_2 & - \\beta''_1 & \\beta''_0\\\\\n",
    "\\end{bmatrix} \\begin{pmatrix}\n",
    "\\beta'_0\\\\ \\beta_1' \\\\ \\beta_2' \\\\ \\beta_3'\n",
    "\\end{pmatrix}\n",
    "$$\n",
    "\n",
    "the relation above is compactly written as: ${\\bf\\beta} = G({\\bf \\beta''}){\\bf\\beta'}$ which is also equivalent to ${\\bf\\beta} = G({\\bf \\beta'}){\\bf\\beta''}$\n",
    "\n",
    "## Example 3.8 from the book:\n",
    "Let $$[BN] \\to \\beta' = \\left(0,\\frac{1}{\\sqrt{2}},\\frac{1}{\\sqrt{2}},0\\right)^T$$\n",
    "and \n",
    "$$[FB]\\to \\beta'' = \\left(\\frac{1}{2}\\sqrt{\\frac{\\sqrt{3}}{2}+1}, -\\frac{1}{2}\\sqrt{\\frac{\\sqrt{3}}{2}+1}, \\frac{-\\sqrt{2}}{4\\sqrt{2}+\\sqrt{3}}, \\frac{\\sqrt{2}}{4\\sqrt{2}+\\sqrt{3}}\\right)^T$$\n",
    "compute the EP $\\beta$ that describes the $F$ frame orientation relative to the $N$ frame: $FN = FB*BN$\n"
   ]
  },
  {
   "cell_type": "code",
   "execution_count": 16,
   "metadata": {},
   "outputs": [],
   "source": [
    "beta2 = np.array([0.5*np.sqrt(np.sqrt(3)/2 + 1), -0.5*np.sqrt(np.sqrt(3)/2 + 1), -np.sqrt(2)/(4*np.sqrt(2)+np.sqrt(3)),np.sqrt(2)/(4*np.sqrt(2)+np.sqrt(3))])"
   ]
  },
  {
   "cell_type": "code",
   "execution_count": 17,
   "metadata": {},
   "outputs": [
    {
     "data": {
      "text/plain": [
       "1.003134214700055"
      ]
     },
     "execution_count": 17,
     "metadata": {},
     "output_type": "execute_result"
    }
   ],
   "source": [
    "import scipy.linalg\n",
    "from scipy import *\n",
    "scipy.linalg.norm(beta2)"
   ]
  },
  {
   "cell_type": "code",
   "execution_count": 18,
   "metadata": {},
   "outputs": [],
   "source": [
    "beta1 = np.array([0,1/np.sqrt(2),1/np.sqrt(2),0])"
   ]
  },
  {
   "cell_type": "code",
   "execution_count": 19,
   "metadata": {},
   "outputs": [],
   "source": [
    "beta = Add_EPs(beta1, beta2)"
   ]
  },
  {
   "cell_type": "code",
   "execution_count": 20,
   "metadata": {},
   "outputs": [
    {
     "name": "stdout",
     "output_type": "stream",
     "text": [
      "[0.61830096 0.61830096 0.34762486 0.34762486]\n"
     ]
    }
   ],
   "source": [
    "print(beta)"
   ]
  },
  {
   "cell_type": "code",
   "execution_count": 21,
   "metadata": {},
   "outputs": [
    {
     "data": {
      "text/plain": [
       "array([0.61237244, 0.61237244, 0.35355339, 0.35355339])"
      ]
     },
     "execution_count": 21,
     "metadata": {},
     "output_type": "execute_result"
    }
   ],
   "source": [
    "np.array([np.sqrt(3),np.sqrt(3),1,1])/(2*np.sqrt(2))"
   ]
  },
  {
   "cell_type": "markdown",
   "metadata": {},
   "source": [
    "## Quiz 6: Concept check 5,6 - Euler Parameter Relationship to DCM:\n",
    "\n",
    "1. given $\\beta = (0.235702,0.471405,-0.471405,0.707107)$ what is the corresponding DCM?"
   ]
  },
  {
   "cell_type": "code",
   "execution_count": 22,
   "metadata": {},
   "outputs": [
    {
     "name": "stdout",
     "output_type": "stream",
     "text": [
      "[[-0.44444488 -0.11111228  0.88888975]\n",
      " [-0.77777842 -0.44444488 -0.44444535]\n",
      " [ 0.44444535 -0.88888975  0.11111039]]\n"
     ]
    }
   ],
   "source": [
    "beta = np.array([0.235702,0.471405,-0.471405,0.707107])\n",
    "C = EP_to_DCM(beta)\n",
    "print(C)"
   ]
  },
  {
   "cell_type": "markdown",
   "metadata": {},
   "source": [
    "3. Write a program to map a DCM to the equivalent EP. Choose the EP output set that describes a short rotation. Using\n",
    "$$\n",
    "BN = \\begin{bmatrix}\n",
    "-0.529403 & -0.467056 & 0.708231\\\\\n",
    "-0.474115 & -0.529403 & -0.703525\\\\\n",
    "0.703525 & -0.708231 & 0.0588291\n",
    "\\end{bmatrix}\n",
    "$$\n",
    "what is the corresponding EP set?"
   ]
  },
  {
   "cell_type": "code",
   "execution_count": 23,
   "metadata": {},
   "outputs": [],
   "source": [
    "BN = np.array([[-0.529403, -0.467056, 0.708231],[-0.474115, -0.529403, -0.703525],[0.703525, -0.708231, 0.0588291]])"
   ]
  },
  {
   "cell_type": "code",
   "execution_count": 24,
   "metadata": {},
   "outputs": [
    {
     "name": "stdout",
     "output_type": "stream",
     "text": [
      "The corresponding EP set is  [ 0.00242542  0.48506963 -0.48506963  0.72760482]\n"
     ]
    }
   ],
   "source": [
    "EP = DCM_to_EP(BN)\n",
    "print('The corresponding EP set is ', EP)"
   ]
  },
  {
   "cell_type": "markdown",
   "metadata": {},
   "source": [
    "4. Given the (3-2-1) Euler Angles set $(20,10,-10)$ degrees, what is the equivalent EP set?"
   ]
  },
  {
   "cell_type": "code",
   "execution_count": 25,
   "metadata": {},
   "outputs": [
    {
     "name": "stdout",
     "output_type": "stream",
     "text": [
      "The DCM matrix of the euler angles is  [[ 0.92541658  0.33682409 -0.17364818]\n",
      " [-0.36515929  0.91510341 -0.17101007]\n",
      " [ 0.10130573  0.2216648   0.96984631]]\n"
     ]
    }
   ],
   "source": [
    "DCM =  DCMatrix((20,10,-10),(3,2,1))\n",
    "print('The DCM matrix of the euler angles is ', DCM)"
   ]
  },
  {
   "cell_type": "code",
   "execution_count": 26,
   "metadata": {},
   "outputs": [
    {
     "name": "stdout",
     "output_type": "stream",
     "text": [
      "Passing through the DCM matrix, the corresponding EP set is:  [ 0.97600798 -0.10058188  0.07042819  0.17980985]\n"
     ]
    }
   ],
   "source": [
    "beta = DCM_to_EP(DCM)\n",
    "print('Passing through the DCM matrix, the corresponding EP set is: ', beta)"
   ]
  },
  {
   "cell_type": "markdown",
   "metadata": {},
   "source": [
    "## Quiz 7: Concept Check 7- Euler Parameter Addition\n",
    "\n",
    "1. Given $\\beta_{B/N} = (0.774597,0.258199,0.516398,0.258199)$ and $\\beta_{FB}= (0.359211,0.898027,0.179605,0.179605)$ what is $\\beta_{F/N}$?\n",
    "\n",
    "Here we used that in terms of the DCMs $FN = FB *BN$, then $\\beta = G(\\beta'')\\beta'$ with $\\beta''=\\beta_{FB}$ and $\\beta'=\\beta_{BN}$"
   ]
  },
  {
   "cell_type": "code",
   "execution_count": 27,
   "metadata": {},
   "outputs": [
    {
     "name": "stdout",
     "output_type": "stream",
     "text": [
      "The beta_{FN} set is :  [-0.0927474   0.83473077  0.51011318 -0.1854961 ]\n"
     ]
    }
   ],
   "source": [
    "beta1 = np.array([0.774597,0.258199,0.516398,0.258199])\n",
    "beta2 = np.array([0.359211,0.898027,0.179605,0.179605])\n",
    "beta = Add_EPs(beta1, beta2)\n",
    "print('The beta_{FN} set is : ', beta)"
   ]
  },
  {
   "cell_type": "markdown",
   "metadata": {},
   "source": [
    "2. Given $\\beta_{F/N}=(0.359211,0.898027,0.179605,0.179605)$ and $\\beta_{B/N} = (-0.377964,0.755929,0.377964,0.377964)$ what is $\\beta_{F/B}$. \n",
    "To compute it: $\\beta_{F/B} =\\beta_{F/N}\\beta_{N/B}$ where $\\beta_{N/B}$ is the EP set associated to the transpose of the DCM matrix associated to $\\beta{B/N}$\n",
    "\n",
    "$\\beta'' =  G(\\beta')^T  \\beta$\n",
    "with $\\beta = \\beta_{F/N}$, $\\beta' = \\beta_{B/N}$"
   ]
  },
  {
   "cell_type": "code",
   "execution_count": 28,
   "metadata": {},
   "outputs": [
    {
     "name": "stdout",
     "output_type": "stream",
     "text": [
      "beta_{F/B} is : [ 6.78844274e-01 -6.10959889e-01 -4.07306300e-01  1.98359000e-07]\n"
     ]
    }
   ],
   "source": [
    "beta = np.array([0.359211,0.898027,0.179605,0.179605])\n",
    "beta1 = np.array([-0.377964,0.755929,0.377964,0.377964])\n",
    "beta2 = Subtract_EPs(beta, beta1)\n",
    "print('beta_{F/B} is :', beta2)"
   ]
  },
  {
   "cell_type": "markdown",
   "metadata": {},
   "source": [
    "### using DCM's to compute $\\beta_{F/B}$:"
   ]
  },
  {
   "cell_type": "code",
   "execution_count": 29,
   "metadata": {},
   "outputs": [
    {
     "name": "stdout",
     "output_type": "stream",
     "text": [
      "In this way beta_{F/B} is : [ 6.78844282e-01 -6.10959882e-01 -4.07306295e-01  1.98358998e-07]\n"
     ]
    }
   ],
   "source": [
    "FN = EP_to_DCM(beta)\n",
    "BN = EP_to_DCM(beta1)\n",
    "FB = FN@(BN.T)\n",
    "beta22 = DCM_to_EP(FB)\n",
    "print('In this way beta_{F/B} is :', beta22)"
   ]
  },
  {
   "cell_type": "markdown",
   "metadata": {},
   "source": [
    "## Quiz 8: Concept Check 8 - EP Dfferential Equations:\n",
    "\n",
    "Given $\\beta(0)=(0.408248,0.,0.408248,0.816497)$, write a program to integrate the EP differential kinematic equations. Assume the body angular velocity vector of the craft is given through the B frame components as \n",
    "$$\n",
    "\\omega^B = (\\sin(0.1t),0.01t, \\cos(0.01t))^T*20 deg/s\n",
    "$$\n",
    "Compute the norm of the EP set at time $t=42$ "
   ]
  },
  {
   "cell_type": "code",
   "execution_count": 30,
   "metadata": {},
   "outputs": [],
   "source": [
    "from Euler_Integrator import *\n",
    "beta_0 = np.array([0.408248,0.,0.408248,0.816497])\n",
    "def EP_kinematics(t, beta0):\n",
    "    w = (20*np.pi/180)*np.array([math.sin(0.1*t),0.01*t, math.cos(0.01*t)])\n",
    "    W = np.array([[0, -w[0], -w[1], -w[2]],[w[0], 0, w[2], -w[1]],[w[1], -w[2], 0, w[0]], [w[2], w[1], -w[0], 0]])\n",
    "    rhs = 0.5*W@ beta0\n",
    "    \n",
    "    return rhs\n",
    "t0 = 0\n",
    "tf = 42\n",
    "step = 0.1\n",
    "\n",
    "Beta, _ = euler_integrator(EP_kinematics, beta_0, (t0, tf), step)\n",
    "Beta4, _ = ODE4_order(EP_kinematics, beta_0, (t0, tf), step)"
   ]
  },
  {
   "cell_type": "code",
   "execution_count": 31,
   "metadata": {},
   "outputs": [
    {
     "data": {
      "text/plain": [
       "(4, 420)"
      ]
     },
     "execution_count": 31,
     "metadata": {},
     "output_type": "execute_result"
    }
   ],
   "source": [
    "Beta.shape"
   ]
  },
  {
   "cell_type": "code",
   "execution_count": 32,
   "metadata": {},
   "outputs": [
    {
     "name": "stdout",
     "output_type": "stream",
     "text": [
      "Using Euler method, the quantity sqrt{b1^2 + b^2 + b3^2} at t = 42s is  0.7252038671263483\n",
      "Using RK4, the quantity sqrt{b1^2 + b^2 + b3^2} at t = 42s is  0.6634765771677069\n"
     ]
    }
   ],
   "source": [
    "print('Using Euler method, the quantity sqrt{b1^2 + b^2 + b3^2} at t = 42s is ', np.sqrt(Beta[1,-1]**2 + Beta[2, -1]**2 + Beta[3,-1]**2))\n",
    "print('Using RK4, the quantity sqrt{b1^2 + b^2 + b3^2} at t = 42s is ', np.sqrt(Beta4[1,-1]**2 + Beta4[2, -1]**2 + Beta4[3,-1]**2))"
   ]
  },
  {
   "cell_type": "code",
   "execution_count": 33,
   "metadata": {},
   "outputs": [
    {
     "data": {
      "text/plain": [
       "1.096894205033133"
      ]
     },
     "execution_count": 33,
     "metadata": {},
     "output_type": "execute_result"
    }
   ],
   "source": [
    "scipy.linalg.norm(Beta[:,-1],2)"
   ]
  },
  {
   "cell_type": "code",
   "execution_count": 34,
   "metadata": {},
   "outputs": [
    {
     "data": {
      "text/plain": [
       "1.0000001047083895"
      ]
     },
     "execution_count": 34,
     "metadata": {},
     "output_type": "execute_result"
    }
   ],
   "source": [
    "scipy.linalg.norm(Beta4[:,-1],2)"
   ]
  },
  {
   "cell_type": "markdown",
   "metadata": {},
   "source": [
    "# Classical Rodrigues Parameters\n",
    "The origin of the classical Rodrigues parameter vector $q$ (or Gibbs vector) dates back over a hundred years to the French mathematician O. M. Rodrigues. This rigid body attitude coordinate set reduces the redundant Euler parameters to a minimal three-parameter set through the transformation\n",
    "$$\n",
    "\\begin{equation}\\label{CRP}\n",
    "q_i=\\frac{\\beta_i}{\\beta_0}, \\ \\ i=1,2,3\n",
    "\\end{equation}\n",
    "$$\n",
    "The inverse transformation from classical Rodrigues parameters to Euler para- meters is given by\n",
    "$$\n",
    "\\begin{align}\n",
    "\\beta_0 &=\\frac{1}{\\sqrt{1+{\\bf q^T{\\bf q}}}} \\\\\n",
    "\\beta_i &=\\frac{q_i}{\\sqrt{1+{\\bf q^T{\\bf q}}}} \\ \\ i=1,2,3\n",
    "\\end{align}\n",
    "$$\n",
    "Using the definition of EP's in terms of the principal rotation angle $\\Phi$ we have the elegant and useful transformation\n",
    "$$\n",
    "{\\bf q} = \\tan\\frac{\\Phi}{2} \\hat{\\bf e}\n",
    "$$\n",
    "it is evident that the classical Rodrigues para- meters go singular whenever $\\Phi\\to \\pm 180\\deg$.\n",
    "\n",
    "the classical Rodrigues parameters can be viewed as a special set of stereographic orientation parameters. Stereographic projections are used to map a higher-dimension spherical surface onto a lower-dimension hyperplane. In this case, the surface of the four-dimension Euler parameter unit constraint sphere $\\beta_0^2 + \\beta_1^2 +\\beta_2^2 +\\beta_3^2 = 1$ is mapped (projected) onto a three-dimensional hyperplane.\n",
    "\n",
    "<img src ='CRP.png' width ='600' >"
   ]
  },
  {
   "cell_type": "markdown",
   "metadata": {},
   "source": [
    "## Quiz Concept Check 11, 12 - CRP Addition.\n",
    "\n",
    "1. Given the CRP attitude description ${\\bf q}_{B/N} =(0.1,0.2,0.3)$ what is the equivalent DCM value?\n"
   ]
  },
  {
   "cell_type": "code",
   "execution_count": 35,
   "metadata": {},
   "outputs": [
    {
     "name": "stdout",
     "output_type": "stream",
     "text": [
      "The equivalent DCM description is : \n",
      " [[ 0.77192982  0.56140351 -0.29824561]\n",
      " [-0.49122807  0.8245614   0.28070175]\n",
      " [ 0.40350877 -0.07017544  0.9122807 ]]\n"
     ]
    }
   ],
   "source": [
    "q = np.array([0.1,0.2, 0.3]) # very important to make sure q is 2d array\n",
    "C = CRP_to_DCM(q)\n",
    "print('The equivalent DCM description is : ' + '\\n', C)"
   ]
  },
  {
   "cell_type": "markdown",
   "metadata": {},
   "source": [
    "2. Given the following DCM matrix, what is the equivalent CRP set?"
   ]
  },
  {
   "cell_type": "code",
   "execution_count": 36,
   "metadata": {},
   "outputs": [
    {
     "name": "stdout",
     "output_type": "stream",
     "text": [
      "The equivalent CRP set is : \n",
      " [[-0.2000002 ]\n",
      " [-0.40000008]\n",
      " [-0.60000031]]\n"
     ]
    }
   ],
   "source": [
    "BN = np.array([[0.333333, -0.666667,0.666667], [0.871795, 0.487179, 0.0512821], [-0.358974, 0.564103, 0.74359]])\n",
    "q = DCM_to_CRP(BN)\n",
    "print('The equivalent CRP set is : \\n', q)"
   ]
  },
  {
   "cell_type": "markdown",
   "metadata": {},
   "source": [
    "3. Given ${\\bf q}_{F/N} = (0.1, 0.2, 0.3)$ and ${\\bf q}_{B/N}=(-0.3, 0.3, 0.1)$. What is the attitude of $B$ relative to $F$ in ters of CRP's?\n",
    "\n",
    "We know that $FN(q_{FN})= FB(q_{FB})BN(q_{BN})$, then $BF(q_{B/F}) = BN(q_{B/N})FN(q_{F/N})^T= BN(q_{B/N})FN(-q_{F/N})$ therefore  $q_{B/F} = q_{B/N} \"-\" q_{F/N}$ "
   ]
  },
  {
   "cell_type": "code",
   "execution_count": 37,
   "metadata": {},
   "outputs": [
    {
     "name": "stdout",
     "output_type": "stream",
     "text": [
      "The CRP set is q_BF =  [-0.31132075  0.18867925 -0.27358491]\n"
     ]
    }
   ],
   "source": [
    "q_FN = np.array([0.1, 0.2, 0.3])\n",
    "q_BN = np.array([-0.3,0.3,0.1])\n",
    "q_BF = Add_CRPs(-q_FN, q_BN)\n",
    "print('The CRP set is q_BF = ', q_BF)"
   ]
  },
  {
   "cell_type": "code",
   "execution_count": 38,
   "metadata": {},
   "outputs": [
    {
     "name": "stdout",
     "output_type": "stream",
     "text": [
      "one can also use this formula to ge the subtraction CRP:\n"
     ]
    },
    {
     "data": {
      "text/plain": [
       "array([-0.31132075,  0.18867925, -0.27358491])"
      ]
     },
     "execution_count": 38,
     "metadata": {},
     "output_type": "execute_result"
    }
   ],
   "source": [
    "print('one can also use this formula to ge the subtraction CRP:')\n",
    "(-q_FN + q_BN - np.cross(q_FN, q_BN))/(1+q_FN.T@q_BN)"
   ]
  },
  {
   "cell_type": "markdown",
   "metadata": {},
   "source": [
    "## Quiz Concept Check 13 - CRP Differential Kinematic Equations.\n",
    "\n",
    "1. In the CRP differential kinematic equations, is the $B({\\bf q})$ matrix orthogonal?\n",
    "Answer: NO.\n",
    "$$\n",
    "\\begin{align}\n",
    "B({\\bf q}) &=\\frac{1}{2}(\\text{I} + [\\tilde {\\bf q}] +{\\bf q}{\\bf q}^T \\\\\n",
    "B^{-1}({\\bf q}) &=\\frac{2}{1+{\\bf q}^T{\\bf q}}(I - [\\tilde{\\bf q}]) \n",
    "\\end{align}\n",
    "$$\n",
    "\n",
    "2. Given ${\\bf q}(0)=(0.4, 0.2,-0.1)$ Integrate the differential equation $\\dot{\\bf q} = B(q)\\omega^{B}$, where the body angular velocity is: $\\omega^B = (\\sin(0..1t), 0.01, \\cos(0.1t))3\\deg/s$.\n",
    "\n",
    "above we define the function to compute the r.h.s of the differential equation:"
   ]
  },
  {
   "cell_type": "code",
   "execution_count": 39,
   "metadata": {},
   "outputs": [
    {
     "name": "stdout",
     "output_type": "stream",
     "text": [
      "The CRP norm |q| at 42 seconds is  1.2031251132171317\n"
     ]
    }
   ],
   "source": [
    "def CRP_kinematics(t, q0):\n",
    "    \"\"\"\n",
    "    this function computes the r.h.s B(q)w \n",
    "    \"\"\"\n",
    "    w = (3*np.pi/180)*np.array([math.sin(0.1*t),0.01, math.cos(0.1*t)])\n",
    "    rhs = 0.5*(np.eye(3) + Matrix_tilde(q0) + np.outer(q0,q0))@w\n",
    "    \n",
    "    return rhs\n",
    "\n",
    "q0 = np.array([0.4, 0.2, -0.1])\n",
    "t_span = (0,42)\n",
    "step = 0.1\n",
    "Q, _ = ODE4_order(CRP_kinematics, q0, t_span, step)\n",
    "\n",
    "print('The CRP norm |q| at 42 seconds is ', scipy.linalg.norm(Q[:,-1],2))\n"
   ]
  },
  {
   "cell_type": "markdown",
   "metadata": {},
   "source": [
    "# Modified Rodrigues Parameters\n",
    "\n",
    "The modified Rodrigues parameters (MRPs) are an elegant recent addition to the family of attitude parameters. The MRP vector s is defined in terms of the Euler parameters as the transformation\n",
    "$$\n",
    "\\sigma_i = \\frac{\\beta_i}{1+\\beta_0}, \\ \\ i=1,2,3.\n",
    "$$\n",
    "They are simply the stereographic projection of the sphere $\\beta_0^2+\\beta_1^2+\\beta_2^2+\\beta_3^2 = 1$ onto a hyperplane $\\{\\sigma_1,\\sigma_2,\\sigma_3\\}$.\n",
    "The inverse transformation is:\n",
    "$$\n",
    "\\beta_0 = \\frac{1-|\\sigma|^2}{1+|\\sigma|^2},\\ \\ \\ \\beta_i = \\frac{2\\sigma_i}{1+|\\sigma|^2}, \\ \\ i=1,2,3.\n",
    "$$\n",
    "he MRP vector can be expressed in terms of the principal rotation elements as:\n",
    "$$\n",
    "{\\bf\\sigma} = \\tan\\frac{\\Phi}{4}\\hat{\\bf e}\n",
    "$$\n",
    "By the above equation is evident that the MRP has a geometric singularity at $\\Phi= \\pm 360\\deg$. Any rotation can be described except a complete revolution back to the original orientation. This gives $\\bf \\sigma$ twice the rotational range of the classical Rodrigues parameters. Also note that for small rotations the MRPs linearize as $\\bf\\sigma \\approx \\Phi/4$.\n",
    "\n",
    "The MRP vector $\\bf\\sigma$ can be transformed directly into the classical Rodrigues parameter vector $\\bf q$ through\n",
    "$$\n",
    "\\bf q =\\frac{2\\bf\\sigma}{1 - |\\bf \\sigma|^2}\n",
    "$$\n",
    "with inverse transformation:\n",
    "$$\n",
    "\\bf \\sigma = \\frac{\\bf q}{1+\\sqrt{1+\\bf q^T\\bf q}}\n",
    "$$\n",
    "Naturally, these transformations are singular at $\\Phi = \\pm 180\\deg$ because the classical Rodrigues parameters are singular at this orientation.\n",
    "\n",
    "<img src = 'MRP.png'>\n",
    "\n",
    "Note that the corresponding MRP to $-\\bf \\beta$ is differente to the one associated to $\\bf\\beta$ as opossed to the case of CRP. \n",
    "\n",
    "One set of MRPs always corresponds to a principal rotation $\\Phi\\leq􏰆180\\deg$ and the other to $\\Phi\\geq 180 \\deg$\n",
    "$$\n",
    "\\begin{align}\n",
    "|\\bf \\sigma|&< 1\\ \\ \\text{if } \\Phi<180\\deg\\\\\n",
    "|\\bf \\sigma|&= 1\\ \\ \\text{if } \\Phi=180\\deg\\\\\n",
    "|\\bf \\sigma|&> 1\\ \\ \\text{if } \\Phi>180\\deg\n",
    "\\end{align}\n",
    "$$\n",
    "As one set of MRPs exits the unit sphere, the other (shadow) set enters. The mapping can be written in terms of the principal rotation elements using the definitions of $\\beta_i$ as:\n",
    "$$\n",
    "\\sigma^S = \\tan(\\frac{\\Phi-2\\pi}{4})\\hat{\\bf e}=\\tan(\\frac{\\Phi'}{4})\\hat{\\bf e}\n",
    "$$\n",
    "\n",
    "## Direction Cosine MAtrix:\n",
    "The direction cosine matrix in terms of the MRP is \n",
    "$$\n",
    "C(\\sigma) = I + \\frac{8[\\tilde\\sigma]^2 -4(1-|\\sigma|^2)[\\tilde\\sigma]}{(1+|\\sigma|^2)^2}\n",
    "$$"
   ]
  },
  {
   "cell_type": "markdown",
   "metadata": {},
   "source": [
    "## Concept Check 18 - MRP to DCM Relation\n",
    "1. Map $\\sigma=(0.1,0.2,0.3)$ to the corresponding DCM"
   ]
  },
  {
   "cell_type": "code",
   "execution_count": 40,
   "metadata": {},
   "outputs": [
    {
     "name": "stdout",
     "output_type": "stream",
     "text": [
      "The corresponding DCM is C =  [[ 0.19975377  0.91720529 -0.34472145]\n",
      " [-0.67097568  0.38442598  0.63404124]\n",
      " [ 0.71406587  0.10464758  0.69221299]]\n"
     ]
    }
   ],
   "source": [
    "sigma = np.array([0.1,0.2,0.3])\n",
    "C = MRP_to_DCM(sigma)\n",
    "print('The corresponding DCM is C = ', C)"
   ]
  },
  {
   "cell_type": "markdown",
   "metadata": {},
   "source": [
    "2. Map the DCM to the corresponding short MRP set:"
   ]
  },
  {
   "cell_type": "code",
   "execution_count": 41,
   "metadata": {},
   "outputs": [
    {
     "name": "stdout",
     "output_type": "stream",
     "text": [
      "The corresponding short MRP set is :  [-0.49999988  0.09999998  0.19999983]\n"
     ]
    }
   ],
   "source": [
    "C = np.array([[0.763314, 0.0946746, -0.639053], [-0.568047, -0.372781, -0.733728], [-0.307692, 0.923077, -0.230769]])\n",
    "sigma_short = DCM_to_MRP(C) \n",
    "print('The corresponding short MRP set is : ', sigma_short)"
   ]
  },
  {
   "cell_type": "markdown",
   "metadata": {},
   "source": [
    "## Addition and Subtraction of MRP's:\n",
    "The MRPs enjoy the same relative rotation identity as did the classical Rodrigues parameters\n",
    "$$\n",
    "C(\\bf\\sigma)^T = C(-\\bf\\sigma)\n",
    "$$\n",
    "Given two MRP's vectors $\\sigma_1, \\sigma_2$, let the overall MRP vector $\\sigma$ be defined by:\n",
    "$$\n",
    "FN(\\sigma)=FB(\\sigma_2)BN(\\sigma_1)\n",
    "$$\n",
    "then \n",
    "$$\n",
    "\\sigma = \\frac{(1-|\\sigma_1|^2)\\sigma_2 + (1-|\\sigma_2|^2)\\sigma_1 - 2\\sigma_2\\times \\sigma_1}{1+|\\sigma_1|^2|\\sigma_2|^2-2\\sigma_1\\cdot\\sigma_2}\n",
    "$$\n",
    "And the subtraction, i.e, the attitude vector $\\sigma_2$ in terms of $\\sigma$ and $\\sigma_1$ as:\n",
    "$$\n",
    "\\sigma_2 = \\frac{(1-|\\sigma_1|^2)\\sigma - (1-|\\sigma_2|^2)\\sigma_1 + 2\\sigma\\times \\sigma_1}{1+|\\sigma_1|^2|\\sigma_2|^2+ 2\\sigma_1\\cdot\\sigma}\n",
    "$$\n",
    "obtained by changing $\\sigma_1 \\rightarrow -\\sigma_1$"
   ]
  },
  {
   "cell_type": "markdown",
   "metadata": {},
   "source": [
    "## Concept Check 19 - MRP Addition and Subtraction\n",
    "\n",
    "1. If $\\sigma_{B/N} = (0.2, 0.2, -0.1)$ what is the equivalent inverse rotation $\\sigma_{N/B}$?\n"
   ]
  },
  {
   "cell_type": "code",
   "execution_count": 42,
   "metadata": {},
   "outputs": [
    {
     "name": "stdout",
     "output_type": "stream",
     "text": [
      "As expected, the inverse rotation is : [-0.2 -0.2  0.1]\n"
     ]
    }
   ],
   "source": [
    "sigma = np.array([0.2,0.2,-0.1])\n",
    "C_sigma = MRP_to_DCM(sigma)\n",
    "sigma_inverse = DCM_to_MRP(C_sigma.T)\n",
    "print('As expected, the inverse rotation is :', sigma_inverse)"
   ]
  },
  {
   "cell_type": "markdown",
   "metadata": {},
   "source": [
    "2. Add $\\sigma_{B/N} = (0.1,0.2,0.3)$ and $\\sigma_{R/B} = (-0.1,0.3,0.1)$ to find $\\sigma_{R/N})$:\n",
    "$$\n",
    "RN(\\sigma_{R/N}) = RB(\\sigma_{R/B})BN(\\sigma_{B/N})\n",
    "$$\n",
    "then in the function Add_MRPs sigma1 =$\\sigma_{B/N}$, sigma2= $\\sigma_{R/B}$ "
   ]
  },
  {
   "cell_type": "code",
   "execution_count": 43,
   "metadata": {},
   "outputs": [
    {
     "name": "stdout",
     "output_type": "stream",
     "text": [
      "The sum of sigma1 and sigma2 attitudes is : [-0.16015899  0.41617957  0.52957681]\n"
     ]
    }
   ],
   "source": [
    "sigma1 = np.array([0.1, 0.2, 0.3])\n",
    "sigma2 = np.array([-0.1, 0.3, 0.1])\n",
    "sigma = Add_MRPs(sigma1, sigma2)\n",
    "print('The sum of sigma1 and sigma2 attitudes is :', sigma)"
   ]
  },
  {
   "cell_type": "markdown",
   "metadata": {},
   "source": [
    "3. Given $\\sigma_{B/N} = (0.1,0.2,0.3)$ and $\\sigma_{R/N} = (0.5,0.3,0.1)$ find $\\sigma_{B/R})$:\n",
    "$$\n",
    "BR(\\sigma_{B/R}) = BN(\\sigma_{B/N})RN(\\sigma_{R/N})^T = BN(\\sigma_{B/N})RN(-\\sigma_{R/N}) \n",
    "$$\n",
    "so the subtraction attitude is just the sum of $\\sigma_{B/N}$ with $-\\sigma_{R/N}$"
   ]
  },
  {
   "cell_type": "code",
   "execution_count": 44,
   "metadata": {},
   "outputs": [
    {
     "name": "stdout",
     "output_type": "stream",
     "text": [
      "Then sigma_B/R is : [-0.37998495  0.11437171 -0.02332581]\n"
     ]
    }
   ],
   "source": [
    "sigma_RN = np.array([0.5,0.3,0.1])\n",
    "sigma_BN = np.array([0.1, 0.2, 0.3])\n",
    "sigma_BR = Subtract_MRPs(sigma_RN, sigma_BN)\n",
    "print('Then sigma_B/R is :', sigma_BR)"
   ]
  },
  {
   "cell_type": "markdown",
   "metadata": {},
   "source": [
    "## MRP kinematic differential equation:\n",
    "\n",
    "The kinematic differential equation of the MRPs is found in a similar manner as the one for the classical Rodrigues parameters. The resulting differential equation is:\n",
    "$$\n",
    "\\dot{\\bf\\sigma} = \\frac{1}{4}((1-|\\sigma|^2)I + 2[\\tilde{\\bf\\sigma}] + 2{\\bf\\sigma}{\\bf\\sigma^T}){\\bf\\omega} = \\frac{1}{4}B({\\bf\\sigma}){\\bf\\omega}\n",
    "$$\n",
    "\n",
    "### Concept Check 20 - MRP Differential Kinematic Equation\n",
    "\n",
    "4. Given $\\sigma(0)=(0.4,0.,-0.1)$ write a program to integrate the MRP differential kinematics equations. Assume the body angular velocity vector of the craft is given through the B frame components as $\\omega^B = (\\sin(0.1t),0.01, \\cos(0.1t))^T 20\\deg/s$\n",
    "Be sure to only use the short rotation version of the MRPs."
   ]
  },
  {
   "cell_type": "code",
   "execution_count": 45,
   "metadata": {},
   "outputs": [],
   "source": [
    "def MRP_kinematics(t, sigma0):\n",
    "    B_sigma = 0.25*((1- norm(sigma0,2)**2)*np.eye(3) +2*Matrix_tilde(sigma0) +2*np.outer(sigma0,sigma0))\n",
    "    w = np.array([math.sin(0.1*t), 0.01, math.cos(0.1*t)])*20*np.pi/180\n",
    "    rhs = B_sigma @ w\n",
    "    \n",
    "    return rhs\n",
    "\n",
    "## we write a special integrator for the MRP so we can check at every step time whether sigma is a long or a short attitude\n",
    "def MRP_integrator(function, x0, t_span, step) :\n",
    "    x = x0\n",
    "    t0, t_f = t_span\n",
    "    t = np.arange(t0, t_f, step)\n",
    "    nt = t.shape[0]\n",
    "    X = np.zeros((x0.shape[0],nt))\n",
    "    X[:,0] = x\n",
    "    \n",
    "    for i in range(nt-1):\n",
    "        k1 = function(t[i],x)\n",
    "        k2 = function(t[i] + 0.5*step, x + 0.5*step*k1)\n",
    "        k3 = function(t[i] + 0.5*step, x + 0.5*step*k2)\n",
    "        k4 = function(t[i] + step, x + step*k3)\n",
    "        x = x + step*(k1 +2*k2 + 2*k3 + k4)/6\n",
    "        if norm(x,2) > 1 :\n",
    "            x = -x/(norm(x,2)**2)\n",
    "            #print('flag', i)\n",
    "        X[:,i+1] = x\n",
    "        \n",
    "    return X,t\n",
    "\n",
    "sigma0 = np.array([0.4,0.2,-0.1])\n",
    "t_span = (0,42)\n",
    "step = 0.1\n",
    "\n",
    "Sigma, _ = MRP_integrator(MRP_kinematics, sigma0, t_span, step)\n"
   ]
  },
  {
   "cell_type": "code",
   "execution_count": 46,
   "metadata": {},
   "outputs": [
    {
     "name": "stdout",
     "output_type": "stream",
     "text": [
      "the MRP norm |sigma(42)| at 42 seconds is : 0.6400528858982075\n"
     ]
    }
   ],
   "source": [
    "print('the MRP norm |sigma(42)| at 42 seconds is :', norm(Sigma[:,-1],2))"
   ]
  },
  {
   "cell_type": "code",
   "execution_count": null,
   "metadata": {},
   "outputs": [],
   "source": []
  }
 ],
 "metadata": {
  "kernelspec": {
   "display_name": "Python 3",
   "language": "python",
   "name": "python3"
  },
  "language_info": {
   "codemirror_mode": {
    "name": "ipython",
    "version": 3
   },
   "file_extension": ".py",
   "mimetype": "text/x-python",
   "name": "python",
   "nbconvert_exporter": "python",
   "pygments_lexer": "ipython3",
   "version": "3.8.2"
  }
 },
 "nbformat": 4,
 "nbformat_minor": 4
}
